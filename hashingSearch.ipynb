{
  "nbformat": 4,
  "nbformat_minor": 0,
  "metadata": {
    "colab": {
      "name": "Untitled3.ipynb",
      "provenance": [],
      "authorship_tag": "ABX9TyMjO86icoD8M//w45dma6VW",
      "include_colab_link": true
    },
    "kernelspec": {
      "name": "python3",
      "display_name": "Python 3"
    }
  },
  "cells": [
    {
      "cell_type": "markdown",
      "metadata": {
        "id": "view-in-github",
        "colab_type": "text"
      },
      "source": [
        "<a href=\"https://colab.research.google.com/github/mark20306/Algorithms/blob/master/hashingSearch.ipynb\" target=\"_parent\"><img src=\"https://colab.research.google.com/assets/colab-badge.svg\" alt=\"Open In Colab\"/></a>"
      ]
    },
    {
      "cell_type": "code",
      "metadata": {
        "id": "lUTLy0sXCFeF",
        "outputId": "c2dfbd6b-72af-4ea3-dfe3-ed40678a3691",
        "colab": {
          "base_uri": "https://localhost:8080/",
          "height": 218
        }
      },
      "source": [
        "import random\n",
        "indexbox=10\n",
        "maxnum=7\n",
        "\n",
        "def print_data(data,max_number):\n",
        "  print(\"\\t\",end=\"\")\n",
        "  for i in range(max_number):\n",
        "    print(\"[%2d}\"%data[i],end=\"\")\n",
        "  print()  \n",
        "\n",
        "def create_table(num,index):\n",
        "  tmp=num%indexbox  \n",
        "  while True:\n",
        "    if index[tmp]==-1:\n",
        "      index[tmp]=num\n",
        "      break\n",
        "    else:\n",
        "      tmp=(tmp+1)%indexbox\n",
        "\n",
        "index=[None]*indexbox\n",
        "data=[None]*maxnum   \n",
        "print(\"原始陣列值:\")   \n",
        "for i in range(maxnum):\n",
        "  data[i]=random.randint(1,20)\n",
        "for i in range(indexbox):\n",
        "  index[i]=-1\n",
        "print_data(data,maxnum)\n",
        "\n",
        "print(\"雜湊表內容:\")\n",
        "for i in range(maxnum):\n",
        "  create_table(data[i],index)\n",
        "  print(\" %2d =>\"%data[i],end=\"\")\n",
        "  print_data(index,indexbox)\n",
        "print(\"完整雜湊表:\")\n",
        "print_data(index,indexbox)  "
      ],
      "execution_count": 2,
      "outputs": [
        {
          "output_type": "stream",
          "text": [
            "原始陣列值:\n",
            "\t[10}[11}[ 6}[ 9}[ 1}[20}[12}\n",
            "雜湊表內容:\n",
            " 10 =>\t[10}[-1}[-1}[-1}[-1}[-1}[-1}[-1}[-1}[-1}\n",
            " 11 =>\t[10}[11}[-1}[-1}[-1}[-1}[-1}[-1}[-1}[-1}\n",
            "  6 =>\t[10}[11}[-1}[-1}[-1}[-1}[ 6}[-1}[-1}[-1}\n",
            "  9 =>\t[10}[11}[-1}[-1}[-1}[-1}[ 6}[-1}[-1}[ 9}\n",
            "  1 =>\t[10}[11}[ 1}[-1}[-1}[-1}[ 6}[-1}[-1}[ 9}\n",
            " 20 =>\t[10}[11}[ 1}[20}[-1}[-1}[ 6}[-1}[-1}[ 9}\n",
            " 12 =>\t[10}[11}[ 1}[20}[12}[-1}[ 6}[-1}[-1}[ 9}\n",
            "完整雜湊表:\n",
            "\t[10}[11}[ 1}[20}[12}[-1}[ 6}[-1}[-1}[ 9}\n"
          ],
          "name": "stdout"
        }
      ]
    },
    {
      "cell_type": "markdown",
      "metadata": {
        "id": "8kSiq1BRHOq1"
      },
      "source": [
        "平方"
      ]
    },
    {
      "cell_type": "code",
      "metadata": {
        "id": "WouUFKeIHKYG",
        "outputId": "0b3563f5-1ad9-4ca9-e630-f7b044554bdc",
        "colab": {
          "base_uri": "https://localhost:8080/",
          "height": 302
        }
      },
      "source": [
        "import random\n",
        "indexbox=10\n",
        "maxnum=7\n",
        "\n",
        "def print_data(data,max_number):\n",
        "  print(\"\\t\",end=\"\")\n",
        "  for i in range(max_number):\n",
        "    print(\"[%2d}\"%data[i],end=\"\")\n",
        "  print()  \n",
        "\n",
        "def create_table(num,index):\n",
        "  tmp=num%indexbox  \n",
        "  n=1\n",
        "  while True:\n",
        "    \n",
        "    if index[tmp]==-1:\n",
        "      index[tmp]=num\n",
        "      break\n",
        "    else:\n",
        "      print(\"碰撞\")\n",
        "      tmp=(tmp+n**2)%indexbox\n",
        "      n+=1\n",
        "\n",
        "index=[None]*indexbox\n",
        "data=[None]*maxnum   \n",
        "print(\"原始陣列值:\")   \n",
        "for i in range(maxnum):\n",
        "  data[i]=random.randint(1,20)\n",
        "for i in range(indexbox):\n",
        "  index[i]=-1\n",
        "print_data(data,maxnum)\n",
        "\n",
        "print(\"雜湊表內容:\")\n",
        "for i in range(maxnum):\n",
        "  create_table(data[i],index)\n",
        "  print(\" %2d =>\"%data[i],end=\"\")\n",
        "  print_data(index,indexbox)\n",
        "print(\"完整雜湊表:\")\n",
        "print_data(index,indexbox)"
      ],
      "execution_count": 24,
      "outputs": [
        {
          "output_type": "stream",
          "text": [
            "原始陣列值:\n",
            "\t[ 1}[ 5}[ 7}[19}[ 8}[ 8}[ 8}\n",
            "雜湊表內容:\n",
            "  1 =>\t[-1}[ 1}[-1}[-1}[-1}[-1}[-1}[-1}[-1}[-1}\n",
            "  5 =>\t[-1}[ 1}[-1}[-1}[-1}[ 5}[-1}[-1}[-1}[-1}\n",
            "  7 =>\t[-1}[ 1}[-1}[-1}[-1}[ 5}[-1}[ 7}[-1}[-1}\n",
            " 19 =>\t[-1}[ 1}[-1}[-1}[-1}[ 5}[-1}[ 7}[-1}[19}\n",
            "  8 =>\t[-1}[ 1}[-1}[-1}[-1}[ 5}[-1}[ 7}[ 8}[19}\n",
            "碰撞\n",
            "碰撞\n",
            "  8 =>\t[-1}[ 1}[-1}[ 8}[-1}[ 5}[-1}[ 7}[ 8}[19}\n",
            "碰撞\n",
            "碰撞\n",
            "碰撞\n",
            "  8 =>\t[-1}[ 1}[ 8}[ 8}[-1}[ 5}[-1}[ 7}[ 8}[19}\n",
            "完整雜湊表:\n",
            "\t[-1}[ 1}[ 8}[ 8}[-1}[ 5}[-1}[ 7}[ 8}[19}\n"
          ],
          "name": "stdout"
        }
      ]
    },
    {
      "cell_type": "markdown",
      "metadata": {
        "id": "7XX_-QmpISMR"
      },
      "source": [
        "再雜湊"
      ]
    },
    {
      "cell_type": "code",
      "metadata": {
        "id": "BwWHVq_tIXVH",
        "outputId": "9fdcd6eb-2691-4c13-beb1-239c496fcbc7",
        "colab": {
          "base_uri": "https://localhost:8080/",
          "height": 386
        }
      },
      "source": [
        "import random\n",
        "indexbox=10\n",
        "maxnum=7\n",
        "n=1\n",
        "def print_data(data,max_number):\n",
        "  print(\"\\t\",end=\"\")\n",
        "  for i in range(max_number):\n",
        "    print(\"[%2d}\"%data[i],end=\"\")\n",
        "  print()  \n",
        "\n",
        "def create_table(num,index):\n",
        "  tmp=num%indexbox \n",
        "  n=1 \n",
        "  while True:\n",
        "    if index[tmp]==-1:\n",
        "      index[tmp]=num\n",
        "      break\n",
        "    else:\n",
        "      print(\"碰撞\")\n",
        "      tmp=(tmp+n*3)%indexbox\n",
        "      n+1\n",
        "\n",
        "index=[None]*indexbox\n",
        "data=[None]*maxnum   \n",
        "print(\"原始陣列值:\")   \n",
        "for i in range(maxnum):\n",
        "  data[i]=random.randint(1,20)\n",
        "for i in range(indexbox):\n",
        "  index[i]=-1\n",
        "print_data(data,maxnum)\n",
        "\n",
        "print(\"雜湊表內容:\")\n",
        "for i in range(maxnum):\n",
        "  create_table(data[i],index)\n",
        "  print(\" %2d =>\"%data[i],end=\"\")\n",
        "  print_data(index,indexbox)\n",
        "print(\"完整雜湊表:\")\n",
        "print_data(index,indexbox)"
      ],
      "execution_count": 28,
      "outputs": [
        {
          "output_type": "stream",
          "text": [
            "原始陣列值:\n",
            "\t[20}[10}[13}[ 6}[17}[19}[17}\n",
            "雜湊表內容:\n",
            " 20 =>\t[20}[-1}[-1}[-1}[-1}[-1}[-1}[-1}[-1}[-1}\n",
            "碰撞\n",
            " 10 =>\t[20}[-1}[-1}[10}[-1}[-1}[-1}[-1}[-1}[-1}\n",
            "碰撞\n",
            " 13 =>\t[20}[-1}[-1}[10}[-1}[-1}[13}[-1}[-1}[-1}\n",
            "碰撞\n",
            "  6 =>\t[20}[-1}[-1}[10}[-1}[-1}[13}[-1}[-1}[ 6}\n",
            " 17 =>\t[20}[-1}[-1}[10}[-1}[-1}[13}[17}[-1}[ 6}\n",
            "碰撞\n",
            " 19 =>\t[20}[-1}[19}[10}[-1}[-1}[13}[17}[-1}[ 6}\n",
            "碰撞\n",
            "碰撞\n",
            "碰撞\n",
            "碰撞\n",
            "碰撞\n",
            "碰撞\n",
            " 17 =>\t[20}[-1}[19}[10}[-1}[17}[13}[17}[-1}[ 6}\n",
            "完整雜湊表:\n",
            "\t[20}[-1}[19}[10}[-1}[17}[13}[17}[-1}[ 6}\n"
          ],
          "name": "stdout"
        }
      ]
    }
  ]
}