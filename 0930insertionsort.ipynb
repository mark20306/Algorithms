{
  "nbformat": 4,
  "nbformat_minor": 0,
  "metadata": {
    "colab": {
      "name": "insertionsort.ipynb",
      "provenance": [],
      "collapsed_sections": [],
      "include_colab_link": true
    },
    "kernelspec": {
      "name": "python3",
      "display_name": "Python 3"
    }
  },
  "cells": [
    {
      "cell_type": "markdown",
      "metadata": {
        "id": "view-in-github",
        "colab_type": "text"
      },
      "source": [
        "<a href=\"https://colab.research.google.com/github/mark20306/Algorithms/blob/master/0930insertionsort.ipynb\" target=\"_parent\"><img src=\"https://colab.research.google.com/assets/colab-badge.svg\" alt=\"Open In Colab\"/></a>"
      ]
    },
    {
      "cell_type": "markdown",
      "metadata": {
        "id": "j95w6SLwOC0z"
      },
      "source": [
        "Insertion sort (插入排序)"
      ]
    },
    {
      "cell_type": "code",
      "metadata": {
        "id": "BxBaYEwzNj_v",
        "outputId": "46141d27-35cb-48c3-b2ee-d6e90e1f1268",
        "colab": {
          "base_uri": "https://localhost:8080/",
          "height": 306
        }
      },
      "source": [
        "\n",
        "def Insertion_Sort(datas):\n",
        "    for i in range(1, len(datas)):    #(n-1)\n",
        "        for j in range(i):      #n(n-1)  \n",
        "            current = datas[i]   #(n-1)\n",
        "            if current < datas[j]: #n(n-1)\n",
        "                for k in range(i,j): #n(n-1)\n",
        "                  print(datas) #n \n",
        "    return datas #1\n",
        "#total=(n-1)+n(n-1)+(n-1)+n(n-1)+n(n-1)+n+1=O(n^2)\n",
        "\n",
        "def insertionSort(arr):\n",
        "    for i in range(len(arr)): #n\n",
        "        preIndex = i-1  #n\n",
        "        current = arr[i] #n\n",
        "        while preIndex >= 0 and arr[preIndex] > current:\n",
        "            arr[preIndex+1] = arr[preIndex]\n",
        "            preIndex-=1\n",
        "        arr[preIndex+1] = current #n\n",
        "        print(arr) #n\n",
        "    return arr #1\n",
        "#total=O(n)\n",
        "#上下相加=O(n^2)+O(n)=O(n^2)\n",
        "if __name__ == '__main__':\n",
        "    import random\n",
        "    a = list(range(16))\n",
        "    random.shuffle(a)\n",
        "    b = a.copy()\n",
        "\n",
        "    arr = insertionSort(a)\n",
        "    print('---'*18)\n",
        "    Insertion_Sort(b)"
      ],
      "execution_count": null,
      "outputs": [
        {
          "output_type": "stream",
          "text": [
            "[8, 11, 5, 7, 9, 2, 10, 15, 14, 6, 1, 4, 13, 0, 3, 12]\n",
            "[8, 11, 5, 7, 9, 2, 10, 15, 14, 6, 1, 4, 13, 0, 3, 12]\n",
            "[5, 8, 11, 7, 9, 2, 10, 15, 14, 6, 1, 4, 13, 0, 3, 12]\n",
            "[5, 7, 8, 11, 9, 2, 10, 15, 14, 6, 1, 4, 13, 0, 3, 12]\n",
            "[5, 7, 8, 9, 11, 2, 10, 15, 14, 6, 1, 4, 13, 0, 3, 12]\n",
            "[2, 5, 7, 8, 9, 11, 10, 15, 14, 6, 1, 4, 13, 0, 3, 12]\n",
            "[2, 5, 7, 8, 9, 10, 11, 15, 14, 6, 1, 4, 13, 0, 3, 12]\n",
            "[2, 5, 7, 8, 9, 10, 11, 15, 14, 6, 1, 4, 13, 0, 3, 12]\n",
            "[2, 5, 7, 8, 9, 10, 11, 14, 15, 6, 1, 4, 13, 0, 3, 12]\n",
            "[2, 5, 6, 7, 8, 9, 10, 11, 14, 15, 1, 4, 13, 0, 3, 12]\n",
            "[1, 2, 5, 6, 7, 8, 9, 10, 11, 14, 15, 4, 13, 0, 3, 12]\n",
            "[1, 2, 4, 5, 6, 7, 8, 9, 10, 11, 14, 15, 13, 0, 3, 12]\n",
            "[1, 2, 4, 5, 6, 7, 8, 9, 10, 11, 13, 14, 15, 0, 3, 12]\n",
            "[0, 1, 2, 4, 5, 6, 7, 8, 9, 10, 11, 13, 14, 15, 3, 12]\n",
            "[0, 1, 2, 3, 4, 5, 6, 7, 8, 9, 10, 11, 13, 14, 15, 12]\n",
            "[0, 1, 2, 3, 4, 5, 6, 7, 8, 9, 10, 11, 12, 13, 14, 15]\n",
            "------------------------------------------------------\n"
          ],
          "name": "stdout"
        }
      ]
    }
  ]
}