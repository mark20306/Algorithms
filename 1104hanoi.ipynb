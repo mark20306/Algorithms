{
  "nbformat": 4,
  "nbformat_minor": 0,
  "metadata": {
    "colab": {
      "name": "Untitled5.ipynb",
      "provenance": [],
      "authorship_tag": "ABX9TyO2/M6XtH/STYn98r/Q6wVk",
      "include_colab_link": true
    },
    "kernelspec": {
      "name": "python3",
      "display_name": "Python 3"
    }
  },
  "cells": [
    {
      "cell_type": "markdown",
      "metadata": {
        "id": "view-in-github",
        "colab_type": "text"
      },
      "source": [
        "<a href=\"https://colab.research.google.com/github/mark20306/Algorithms/blob/master/1104hanoi.ipynb\" target=\"_parent\"><img src=\"https://colab.research.google.com/assets/colab-badge.svg\" alt=\"Open In Colab\"/></a>"
      ]
    },
    {
      "cell_type": "code",
      "metadata": {
        "id": "IUIh9Vv0QTKw",
        "outputId": "03131cf4-a700-4b44-d3b9-69219de2b46c",
        "colab": {
          "base_uri": "https://localhost:8080/"
        }
      },
      "source": [
        "def hanoi(n,p1,p2,p3):\n",
        "  if n == 1:\n",
        "    print(\"套還從%d移動到%d\"%(p1,p3))\n",
        "  else:\n",
        "    hanoi(n-1,p1,p3,p2)\n",
        "    print(\"套還從%d移到%d\"%(p1,p3))\n",
        "    hanoi(n-1,p2,p1,p3)\n",
        "x =int(input(\"請輸入移動的套還數量:\"))\n",
        "hanoi(x,1,2,3)\n",
        "\n"
      ],
      "execution_count": 1,
      "outputs": [
        {
          "output_type": "stream",
          "text": [
            "請輸入移動的套還數量:3\n",
            "套還從1移動到3\n",
            "套還從1移到2\n",
            "套還從3移動到2\n",
            "套還從1移到3\n",
            "套還從2移動到1\n",
            "套還從2移到3\n",
            "套還從1移動到3\n"
          ],
          "name": "stdout"
        }
      ]
    }
  ]
}