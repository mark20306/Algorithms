{
  "nbformat": 4,
  "nbformat_minor": 0,
  "metadata": {
    "colab": {
      "name": "Untitled0.ipynb",
      "provenance": [],
      "authorship_tag": "ABX9TyNeQArFMVpokMOIOt17eRbC",
      "include_colab_link": true
    },
    "kernelspec": {
      "name": "python3",
      "display_name": "Python 3"
    }
  },
  "cells": [
    {
      "cell_type": "markdown",
      "metadata": {
        "id": "view-in-github",
        "colab_type": "text"
      },
      "source": [
        "<a href=\"https://colab.research.google.com/github/mark20306/Algorithms/blob/master/ts_analysis.ipynb\" target=\"_parent\"><img src=\"https://colab.research.google.com/assets/colab-badge.svg\" alt=\"Open In Colab\"/></a>"
      ]
    },
    {
      "cell_type": "markdown",
      "metadata": {
        "id": "Vfp_tosp-bdl"
      },
      "source": [
        "時間換空間(不含世紀閏年)\n",
        "\n"
      ]
    },
    {
      "cell_type": "code",
      "metadata": {
        "id": "9j0p_aNN4TNt",
        "outputId": "eeeb23d4-79ac-42e2-fc20-f84d134b18f7",
        "colab": {
          "base_uri": "https://localhost:8080/"
        }
      },
      "source": [
        "x=int(input(\"請輸入年分\"))\n",
        "\n",
        "if x % 4 ==0 and x%100!=0:\n",
        "  print(x,\"是閏年\")\n",
        "else:\n",
        "    print(x,\"不是閏年\")\n"
      ],
      "execution_count": null,
      "outputs": [
        {
          "output_type": "stream",
          "text": [
            "請輸入年分400\n",
            "400 不是閏年\n"
          ],
          "name": "stdout"
        }
      ]
    },
    {
      "cell_type": "markdown",
      "metadata": {
        "id": "u9NvCnyJ-nHO"
      },
      "source": [
        "空間換時間(不含世紀閏年)"
      ]
    },
    {
      "cell_type": "code",
      "metadata": {
        "id": "dkCih3Kj-OVh",
        "outputId": "89d2b55e-8a40-42a8-9611-1bb89ef10220",
        "colab": {
          "base_uri": "https://localhost:8080/"
        }
      },
      "source": [
        "years = [2020,2024,2028,2032,2036,2040]\n",
        "x=int(input(\"請輸入2020年到2040年之中其中一年\"))\n",
        "for i in range(0,len(years)):\n",
        "  if x==years[i]:\n",
        "    print(x,\"是閏年\")\n",
        "    break\n",
        "\n",
        "print(x,\"不是閏年\")\n",
        "\n"
      ],
      "execution_count": 39,
      "outputs": [
        {
          "output_type": "stream",
          "text": [
            "請輸入2020年到2040年之中其中一年2021\n",
            "2021 不是閏年\n"
          ],
          "name": "stdout"
        }
      ]
    }
  ]
}