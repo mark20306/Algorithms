{
  "nbformat": 4,
  "nbformat_minor": 0,
  "metadata": {
    "colab": {
      "name": "Untitled2.ipynb",
      "provenance": [],
      "authorship_tag": "ABX9TyNKqthhl1kZPqYDzwiXq71o",
      "include_colab_link": true
    },
    "kernelspec": {
      "name": "python3",
      "display_name": "Python 3"
    }
  },
  "cells": [
    {
      "cell_type": "markdown",
      "metadata": {
        "id": "view-in-github",
        "colab_type": "text"
      },
      "source": [
        "<a href=\"https://colab.research.google.com/github/mark20306/Algorithms/blob/master/1014BinarySearch.ipynb\" target=\"_parent\"><img src=\"https://colab.research.google.com/assets/colab-badge.svg\" alt=\"Open In Colab\"/></a>"
      ]
    },
    {
      "cell_type": "code",
      "metadata": {
        "id": "UQxs9mfn8YaI",
        "outputId": "235babb4-b2b6-4b2c-a4fa-ad1733954d7f",
        "colab": {
          "base_uri": "https://localhost:8080/",
          "height": 35
        }
      },
      "source": [
        "def BinarySearch(arr,l,r,x):\n",
        "  if r >= l:\n",
        "    mid = l + (r - l)//2\n",
        "    if arr[mid]==x:\n",
        "      return mid\n",
        "    elif arr[mid]>=x:\n",
        "      return BinarySearch(arr,l,mid-1,x)\n",
        "    else:\n",
        "      return BinarySearch(arr,mid+1,r,x)\n",
        "  else:\n",
        "    return -1\n",
        "\n",
        "arr=[5,8,9,15,30]\n",
        "x=9\n",
        "\n",
        "result = BinarySearch(arr,0,len(arr)-1,x)\n",
        "if result != -1:\n",
        "  print(\"元素在索引%d\"%result)\n",
        "else:\n",
        "  print(\"陣列中找不到該元素\")"
      ],
      "execution_count": 43,
      "outputs": [
        {
          "output_type": "stream",
          "text": [
            "元素在索引2\n"
          ],
          "name": "stdout"
        }
      ]
    },
    {
      "cell_type": "code",
      "metadata": {
        "id": "aekJTCIL_pcr",
        "outputId": "24abeb8b-e798-48d0-f51f-73d3308885bd",
        "colab": {
          "base_uri": "https://localhost:8080/",
          "height": 199
        }
      },
      "source": [
        "def BinarySearch(arr,l,r,x):\n",
        "  if r >= l:\n",
        "    mid = l + (r - l)//2\n",
        "    \n",
        "    if arr[mid]==x:\n",
        "      return mid\n",
        "    elif arr[mid]>=x:\n",
        "      return BinarySearch(arr,l,mid-1,x)\n",
        "    else:\n",
        "      return BinarySearch(arr,mid+1,r,x)\n",
        "  else:\n",
        "    return -1\n",
        "\n",
        "def Bubble_Sort(datas):\n",
        "    for i in range(1, len(datas)): # \n",
        "        for j in range(len(datas)-i):   # \n",
        "            if datas[j] > datas[j+1]:   # \n",
        "                datas[j], datas[j+1] = datas[j+1], datas[j]\n",
        "    return datas\n",
        "\n",
        "\n",
        "if __name__ == '__main__':\n",
        "    #import random\n",
        "    arr = list()\n",
        "    for x in range(1,6):\n",
        "      y =input() \n",
        "         \n",
        "      arr.append(int(y))\n",
        "      \n",
        "    #random.shuffle(a)\n",
        "    print(\"原始輸入字串為:\",arr)\n",
        "    arr2 = Bubble_Sort(arr)\n",
        "    print(\"經氣泡排序法後:\",arr2)\n",
        "    print(\"請輸入欲搜尋的值\")\n",
        "    \n",
        "    x =int(input())\n",
        "    result = BinarySearch(arr2,0,len(arr)-1,x)\n",
        "    if result != -1:\n",
        "      print(\"元素在索引%d\"%result)\n",
        "    else:\n",
        "      print(\"陣列中找不到該元素\")\n",
        "\n",
        "\n",
        "\n",
        "\n"
      ],
      "execution_count": 44,
      "outputs": [
        {
          "output_type": "stream",
          "text": [
            "5\n",
            "6\n",
            "4\n",
            "7\n",
            "3\n",
            "原始輸入字串為: [5, 6, 4, 7, 3]\n",
            "經氣泡排序法後: [3, 4, 5, 6, 7]\n",
            "請輸入欲搜尋的值\n",
            "100\n",
            "陣列中找不到該元素\n"
          ],
          "name": "stdout"
        }
      ]
    }
  ]
}