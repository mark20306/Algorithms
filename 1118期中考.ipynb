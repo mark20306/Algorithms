{
  "nbformat": 4,
  "nbformat_minor": 0,
  "metadata": {
    "colab": {
      "name": "Untitled6.ipynb",
      "provenance": [],
      "authorship_tag": "ABX9TyPxrluG7KUs+onUoI/wxojO",
      "include_colab_link": true
    },
    "kernelspec": {
      "name": "python3",
      "display_name": "Python 3"
    }
  },
  "cells": [
    {
      "cell_type": "markdown",
      "metadata": {
        "id": "view-in-github",
        "colab_type": "text"
      },
      "source": [
        "<a href=\"https://colab.research.google.com/github/mark20306/Algorithms/blob/master/1118%E6%9C%9F%E4%B8%AD%E8%80%83.ipynb\" target=\"_parent\"><img src=\"https://colab.research.google.com/assets/colab-badge.svg\" alt=\"Open In Colab\"/></a>"
      ]
    },
    {
      "cell_type": "markdown",
      "metadata": {
        "id": "2rngIBoMgNiz"
      },
      "source": [
        "選擇(大到小)"
      ]
    },
    {
      "cell_type": "code",
      "metadata": {
        "colab": {
          "base_uri": "https://localhost:8080/"
        },
        "id": "SX4UnKVCXkIk",
        "outputId": "69faa077-8452-47d9-8890-f821cdb12f3b"
      },
      "source": [
        "def Selction_Sort(datas):\n",
        "    for i in range(len(datas)-1): \n",
        "        max = i # 第一次選從第一個數開始,第二次從第二個數開始，暫存最大值 \n",
        "        for j in range(i+1, len(datas)):    # 用記錄的max數與其他的比較 \n",
        "            if datas[j] > datas[max]:     #如果j比暫如果j比暫存最大值大\n",
        "                max = j           #暫存最大值就變j\n",
        "\n",
        "        datas[i], datas[max] = datas[max], datas[i] #數字交換位置\n",
        "        print('第', i+1, '次排序:', datas)\n",
        "         \n",
        "        print('---'*15) \n",
        "    return datas \n",
        "\n",
        "\n",
        "if __name__ == '__main__':\n",
        "    \n",
        "    from random import sample\n",
        "    list=range(1,100) #設定串列1~99\n",
        "    \n",
        "    a = sample(list,8) #隨機取八個數\n",
        "    \n",
        "    print(\"原始數列\",a)\n",
        "    a = Selction_Sort(a) #進行排列\n",
        "     \n",
        "    "
      ],
      "execution_count": 81,
      "outputs": [
        {
          "output_type": "stream",
          "text": [
            "原始數列 [41, 28, 40, 68, 60, 76, 47, 10]\n",
            "第 1 次排序: [76, 28, 40, 68, 60, 41, 47, 10]\n",
            "---------------------------------------------\n",
            "第 2 次排序: [76, 68, 40, 28, 60, 41, 47, 10]\n",
            "---------------------------------------------\n",
            "第 3 次排序: [76, 68, 60, 28, 40, 41, 47, 10]\n",
            "---------------------------------------------\n",
            "第 4 次排序: [76, 68, 60, 47, 40, 41, 28, 10]\n",
            "---------------------------------------------\n",
            "第 5 次排序: [76, 68, 60, 47, 41, 40, 28, 10]\n",
            "---------------------------------------------\n",
            "第 6 次排序: [76, 68, 60, 47, 41, 40, 28, 10]\n",
            "---------------------------------------------\n",
            "第 7 次排序: [76, 68, 60, 47, 41, 40, 28, 10]\n",
            "---------------------------------------------\n"
          ],
          "name": "stdout"
        }
      ]
    },
    {
      "cell_type": "markdown",
      "metadata": {
        "id": "wZ4SbL3tgWha"
      },
      "source": [
        "插入(小到大)"
      ]
    },
    {
      "cell_type": "code",
      "metadata": {
        "colab": {
          "base_uri": "https://localhost:8080/"
        },
        "id": "Rc_YrOIigaPN",
        "outputId": "b51adb50-9a22-4627-b4f7-bee948e0161e"
      },
      "source": [
        "def Insertion_Sort(datas):\n",
        "    for i in range(1, len(datas)):   #設定i範圍 \n",
        "        target = datas[i] #把第i個資料設為目標\n",
        "        j = i - 1    #j為i前一項\n",
        "        while j >= 0 and target < datas[j]: #當j大於等於0且j的資料大於目標時\n",
        "            \n",
        "            datas[j + 1] = datas[j]  #再將datas[j]的值移到datas[j + 1]  \n",
        "                 \n",
        "            j = j - 1 #將j設成j-1\n",
        "        datas[j + 1] = target #將j+1的資料設為目標\n",
        "        \n",
        "            \n",
        "                 \n",
        "        print('第', i, '次排序:', datas)\n",
        "        print('---'*15)  \n",
        "    return datas\n",
        "if __name__ == '__main__':\n",
        "    from random import sample\n",
        "    list=range(1,100) #設定串列1~99\n",
        "    \n",
        "    a = sample(list,8) #隨機取八個數\n",
        "    \n",
        "    print(\"原始數列\",a)\n",
        "    Insertion_Sort(a) #進行排列"
      ],
      "execution_count": 93,
      "outputs": [
        {
          "output_type": "stream",
          "text": [
            "原始數列 [76, 95, 89, 31, 32, 9, 18, 72]\n",
            "第 1 次排序: [76, 95, 89, 31, 32, 9, 18, 72]\n",
            "---------------------------------------------\n",
            "第 2 次排序: [76, 89, 95, 31, 32, 9, 18, 72]\n",
            "---------------------------------------------\n",
            "第 3 次排序: [31, 76, 89, 95, 32, 9, 18, 72]\n",
            "---------------------------------------------\n",
            "第 4 次排序: [31, 32, 76, 89, 95, 9, 18, 72]\n",
            "---------------------------------------------\n",
            "第 5 次排序: [9, 31, 32, 76, 89, 95, 18, 72]\n",
            "---------------------------------------------\n",
            "第 6 次排序: [9, 18, 31, 32, 76, 89, 95, 72]\n",
            "---------------------------------------------\n",
            "第 7 次排序: [9, 18, 31, 32, 72, 76, 89, 95]\n",
            "---------------------------------------------\n"
          ],
          "name": "stdout"
        }
      ]
    }
  ]
}