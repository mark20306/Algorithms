{
  "nbformat": 4,
  "nbformat_minor": 0,
  "metadata": {
    "colab": {
      "name": "Untitled7.ipynb",
      "provenance": [],
      "authorship_tag": "ABX9TyOCfo9pnWrSIr8CEnT7EDhO",
      "include_colab_link": true
    },
    "kernelspec": {
      "name": "python3",
      "display_name": "Python 3"
    }
  },
  "cells": [
    {
      "cell_type": "markdown",
      "metadata": {
        "id": "view-in-github",
        "colab_type": "text"
      },
      "source": [
        "<a href=\"https://colab.research.google.com/github/mark20306/Algorithms/blob/master/1202.ipynb\" target=\"_parent\"><img src=\"https://colab.research.google.com/assets/colab-badge.svg\" alt=\"Open In Colab\"/></a>"
      ]
    },
    {
      "cell_type": "markdown",
      "metadata": {
        "id": "zyD--W8IUOyg"
      },
      "source": [
        "找零問題(貪婪法)"
      ]
    },
    {
      "cell_type": "code",
      "metadata": {
        "colab": {
          "base_uri": "https://localhost:8080/"
        },
        "id": "4XHwE7eII6wR",
        "outputId": "7bcfa29b-6d0e-4f3a-8be2-e9cdfaf8f602"
      },
      "source": [
        "t=[25,20,5,1]\n",
        "n=int(input())\n",
        "def change(t,n):\n",
        "  \n",
        "    m=[0 for _ in range (len(t))]\n",
        "    for i , money in enumerate(t):\n",
        "      m[i] = n // money\n",
        "      n=n % money\n",
        "      print(m,n)\n",
        "      \n",
        "change(t,n)  \n",
        "    "
      ],
      "execution_count": 62,
      "outputs": [
        {
          "output_type": "stream",
          "text": [
            "41\n",
            "[1, 0, 0, 0] 16\n",
            "[1, 0, 0, 0] 16\n",
            "[1, 0, 3, 0] 1\n",
            "[1, 0, 3, 1] 0\n"
          ],
          "name": "stdout"
        }
      ]
    },
    {
      "cell_type": "markdown",
      "metadata": {
        "id": "A7cB8BF4UZoG"
      },
      "source": [
        "找零問題(dp)\n"
      ]
    },
    {
      "cell_type": "code",
      "metadata": {
        "colab": {
          "base_uri": "https://localhost:8080/"
        },
        "id": "V721YOxAOSXQ",
        "outputId": "0fafd07b-369c-4366-d7f5-99056aa4b736"
      },
      "source": [
        "def coin_change(coins,change,dp,coins_used):\n",
        "\t\n",
        "\tfor i in range(1,change+1):\n",
        "\t\t\n",
        "\t\tfor j in range(len(coins)):\n",
        "\t\t\tif coins[j]<=i:\n",
        "\t\t\t\t\n",
        "\t\t\t\tif dp[i-coins[j]]+1<dp[i]:\n",
        "\t\t\t\t\t#dp[i]=min(dp[i],dp[i-coins[j]]+1)\n",
        "\t\t\t\t\tdp[i]=dp[i-coins[j]]+1\n",
        "\t\t\t\t\t\n",
        "\t\t\t\t\tnew_coin=coins[j]\n",
        "\t\tcoins_used[i]=new_coin\n",
        " \n",
        "\tif dp[change]>change:\n",
        "\t\t\n",
        "\t\treturn -1\n",
        "\telse:\n",
        "\t\treturn dp[change]\n",
        "def used_coins(change,used_coins):\n",
        "\t\n",
        "\tre=[]\n",
        "\twhile change:\n",
        "\t\t#dp[i]=dp[i-coins[j]]+1    used_coins[change]=coins[j]\n",
        "\t\ttmp=used_coins[change]\n",
        "\t\tre.append(tmp)\n",
        "\t\tchange-=tmp\n",
        "\treturn re\n",
        " \n",
        "if __name__=='__main__':\n",
        "\t#初始化\n",
        "\tcoins=[1,5,20,25]\n",
        "\tchange=int(input())\n",
        "\tdp=[change+1]*(change+1)\n",
        "\tdp[0]=0\n",
        "\tcoins_used=[0]*(change+1)\n",
        " \n",
        "\tre=coin_change(coins,change,dp,coins_used)\n",
        "\tre_coins=used_coins(change,coins_used)\n",
        "\tprint(\"找零{0}元需要{1}張錢幣,分别是{2}\".format(change,re,re_coins))"
      ],
      "execution_count": 67,
      "outputs": [
        {
          "output_type": "stream",
          "text": [
            "41\n",
            "找零41元需要3張錢幣,分别是[1, 20, 20]\n"
          ],
          "name": "stdout"
        }
      ]
    },
    {
      "cell_type": "markdown",
      "metadata": {
        "id": "2AaTsS-lVkm0"
      },
      "source": [
        "背包問題(sort+貪婪法)"
      ]
    },
    {
      "cell_type": "code",
      "metadata": {
        "colab": {
          "base_uri": "https://localhost:8080/"
        },
        "id": "rqAWaLwQUD98",
        "outputId": "bf838b06-0b35-4d00-9f3f-f58708c86ea7"
      },
      "source": [
        "t=[4,1,2,5,3] #這是人工sort出來的\n",
        "\n",
        "def change(t,n):\n",
        "    \n",
        "    m=[0 for _ in range (len(t))]\n",
        "    for i , heavy in enumerate(t):\n",
        "      \n",
        "      m[i] = 1\n",
        "      \n",
        "      if n - heavy<0:\n",
        "        n=n\n",
        "        m[i]=0\n",
        "      else:\n",
        "        m[i]=1  \n",
        "        n=n - heavy\n",
        "      \n",
        "      print(m,n)\n",
        "      \n",
        "change(t,10)"
      ],
      "execution_count": 91,
      "outputs": [
        {
          "output_type": "stream",
          "text": [
            "[1, 0, 0, 0, 0] 6\n",
            "[1, 1, 0, 0, 0] 5\n",
            "[1, 1, 1, 0, 0] 3\n",
            "[1, 1, 1, 0, 0] 3\n",
            "[1, 1, 1, 0, 1] 0\n"
          ],
          "name": "stdout"
        }
      ]
    },
    {
      "cell_type": "markdown",
      "metadata": {
        "id": "kC-HKWx4jNcK"
      },
      "source": [
        "背包問題(dp)\n"
      ]
    },
    {
      "cell_type": "code",
      "metadata": {
        "colab": {
          "base_uri": "https://localhost:8080/"
        },
        "id": "bo1vYIcTZ32W",
        "outputId": "ef856b72-d345-4fff-965b-72a4442611cc"
      },
      "source": [
        "import numpy as np\n",
        "def pack():\n",
        "    C=10\n",
        "    num=5\n",
        "    v =   [5,1,4,3,2]\n",
        "    price=[17000,35000,60000,9000,20000] \n",
        "    sum=np.zeros((num+1,C+1)) \n",
        "    for jew in range(num+1): \n",
        "        for c in range(C+1): \n",
        "            if(jew==0):    \n",
        "                sum[jew][c]=0\n",
        "            else:\n",
        "                sum[jew][c]=sum[jew-1][c]\n",
        "            if(jew>0 and c>=v[jew-1]): \n",
        "                # d[i][j] >?= d[i - 1][j - v[i - 1]] + price[i - 1];\n",
        "                sum[jew][c]=max(sum[jew-1][c],sum[jew-1][c-v[jew-1]]+price[jew-1])\n",
        "    print(\"the max price:\",sum[num][C])\n",
        " \n",
        "    \n",
        "    pack=np.zeros((num))\n",
        "    volume = C\n",
        "    \n",
        "    for jew in range(num,-1,-1):  \n",
        "        if(sum[jew][volume]>sum[jew-1][volume]):  \n",
        "            pack[jew-1]=1\n",
        "            volume=volume-v[jew-1]\n",
        " \n",
        "    print(pack)\n",
        "    \n",
        " \n",
        "if __name__==\"__main__\":\n",
        "    pack()"
      ],
      "execution_count": 96,
      "outputs": [
        {
          "output_type": "stream",
          "text": [
            "the max price: 124000.0\n",
            "[0. 1. 1. 1. 1.]\n"
          ],
          "name": "stdout"
        }
      ]
    }
  ]
}