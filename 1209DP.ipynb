{
  "nbformat": 4,
  "nbformat_minor": 0,
  "metadata": {
    "colab": {
      "name": "Untitled1.ipynb",
      "provenance": [],
      "authorship_tag": "ABX9TyNh2LsY94EMf3UEaAnHX2BJ",
      "include_colab_link": true
    },
    "kernelspec": {
      "name": "python3",
      "display_name": "Python 3"
    }
  },
  "cells": [
    {
      "cell_type": "markdown",
      "metadata": {
        "id": "view-in-github",
        "colab_type": "text"
      },
      "source": [
        "<a href=\"https://colab.research.google.com/github/mark20306/Algorithms/blob/master/1209DP.ipynb\" target=\"_parent\"><img src=\"https://colab.research.google.com/assets/colab-badge.svg\" alt=\"Open In Colab\"/></a>"
      ]
    },
    {
      "cell_type": "markdown",
      "metadata": {
        "id": "XCh3yD9sZCB4"
      },
      "source": [
        "鐵條問題"
      ]
    },
    {
      "cell_type": "code",
      "metadata": {
        "colab": {
          "base_uri": "https://localhost:8080/"
        },
        "id": "LGCQ8CF1WcXi",
        "outputId": "67c36ca3-1c6b-4077-d730-e15f00687e45"
      },
      "source": [
        "def CutRod(p, n):  # 函式返回：切割長度為 n 的鋼條所得的最大收益\r\n",
        "    if n == 0:\r\n",
        "        return 0\r\n",
        "    q = -1\r\n",
        "    for i in range(1, n+1):\r\n",
        "        q = max(q, p[i] + CutRod(p, n-i))\r\n",
        "\r\n",
        "    return q\r\n",
        "p=[0,1,5,8,9,10,17,17,20,24,30]   # 價格表，下標為對應的鋼條長度，如當鋼條長度為0時，p=0,即p[0]=0，p[2]=5\r\n",
        "x=int(input())\r\n",
        "print(\"最大收益為：\",CutRod(p,x))  "
      ],
      "execution_count": 22,
      "outputs": [
        {
          "output_type": "stream",
          "text": [
            "7\n",
            "最大收益為： 18\n"
          ],
          "name": "stdout"
        }
      ]
    }
  ]
}